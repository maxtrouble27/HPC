{
 "cells": [
  {
   "cell_type": "markdown",
   "metadata": {},
   "source": [
    "# Assignment 3 - Sparse Matrices\n",
    "## Part 1: Implementing a CSR matrix\n",
    "Scipy allows you to define your own objects that can be used with their sparse solvers. You can do this by creating a subclass of scipy.sparse LinearOperator. In the first part of this assignment, you are going to implement your own CSR matrix format."
   ]
  },
  {
   "cell_type": "code",
   "execution_count": 1,
   "metadata": {},
   "outputs": [],
   "source": [
    "import numpy as np\n",
    "import scipy\n",
    "from scipy import sparse\n",
    "from scipy.sparse.linalg import LinearOperator\n",
    "import numba\n",
    "from numba import njit\n",
    "from scipy.sparse import coo_matrix,csr_matrix, linalg\n",
    "from timeit import timeit\n",
    "import matplotlib.pyplot as plt\n",
    "from tqdm import tqdm"
   ]
  },
  {
   "cell_type": "code",
   "execution_count": 44,
   "metadata": {},
   "outputs": [],
   "source": [
    "@njit\n",
    "def jit_matvec(data, indices, indptr, vector, rows):\n",
    "    '''\n",
    "    Compute the matrix vector multiplication for a CSR matrix \n",
    "\n",
    "    Inputs\n",
    "    - data - non-zero elements in the CSR matrix\n",
    "    - indices - column indices corresponding to data\n",
    "    - indptr - index pointers\n",
    "    - vector - dense vector to multiply matrix with\n",
    "    - rows - number of rows in the CSR matrix\n",
    "\n",
    "    Outputs\n",
    "    - output - output vector from the calculation\n",
    "    '''\n",
    "\n",
    "    # Initialise the output vector\n",
    "    output = np.zeros(rows, dtype=data.dtype)\n",
    "\n",
    "    # Iterate over each row of the sparse matrix\n",
    "    for row in range(rows):\n",
    "        col_start = indptr[row]    \n",
    "        col_end = indptr[row + 1]\n",
    "\n",
    "        # Iterate over non-zero elements\n",
    "        for col_ind in range(col_start, col_end):\n",
    "            # Multiply matrix value with the corresponding vector value\n",
    "            output[row] += (data[col_ind] * vector[indices[col_ind]])\n",
    "    return output\n",
    "\n",
    "class CSRMatrix(LinearOperator):\n",
    "    def __init__(self, coo_matrix):\n",
    "\n",
    "        self.shape = coo_matrix.shape\n",
    "        self.dtype = coo_matrix.dtype\n",
    "        '''\n",
    "        COO:\n",
    "        Row indices\n",
    "        Column indices\n",
    "        Data entries\n",
    "\n",
    "        CSR:\n",
    "        Data entries\n",
    "        Column indices\n",
    "        Index pointers\n",
    "        \n",
    "        Initialise a CSRMatrix object from a COO matrix.\n",
    "\n",
    "        Inputs\n",
    "        - coo_matrix - input matrix in COO format\n",
    "        '''\n",
    "\n",
    "        # Extracting the COO matrix data\n",
    "        coorowind = coo_matrix.row\n",
    "        coocolind = coo_matrix.col\n",
    "        coodata = coo_matrix.data\n",
    "        \n",
    "        # Sort first by row, then by column\n",
    "        order = np.lexsort((coocolind, coorowind))\n",
    "        csrcolind = coocolind[order]\n",
    "        csrdata = coodata[order]\n",
    "        \n",
    "        # Initialise index pointers\n",
    "        indptr = [0]\n",
    "        counter = 0\n",
    "        \n",
    "        # Generate index pointers\n",
    "        for i in range(0,self.shape[0]-1):\n",
    "            counter += np.count_nonzero(coorowind == i)\n",
    "            indptr.append(counter)\n",
    "        \n",
    "        indptr.append(len(coorowind))\n",
    "\n",
    "        test = csr_matrix((csrdata, csrcolind, indptr))\n",
    "\n",
    "        # Make sure CSRMatrix generates CSR matrices correctly\n",
    "        assert np.allclose(coo_matrix.toarray(), test.toarray())\n",
    "        \n",
    "        self.data = csrdata\n",
    "        self.indices = csrcolind\n",
    "        self.indptr = indptr\n",
    "\n",
    "\n",
    "    def __add__(self, other):\n",
    "        '''\n",
    "        Adds self CSR matrix to other CSR matrix and returns a results as a CSR matrix.\n",
    "        Converts each all data points into coordinate-like COO points and adds each point\n",
    "\n",
    "        Inputs\n",
    "        - self - input CSR matrix\n",
    "        - other - another CSR matrix\n",
    "\n",
    "        Outputs\n",
    "        - results_csr - data, indices, indptr. Information needed for CSR matrix\n",
    "        '''\n",
    "\n",
    "        # Check the same shape\n",
    "        assert self.shape == other.shape\n",
    "\n",
    "        row, col = self.shape\n",
    "\n",
    "        # Extracting csr matrix data from self matrix\n",
    "        A_data = self.data\n",
    "        A_indices = self.indices\n",
    "        A_indptr = self.indptr\n",
    "\n",
    "        # Extracting csr matrix data from other matrix\n",
    "        B_data = other.data\n",
    "        B_indices = other.indices\n",
    "        B_indptr = other.indptr\n",
    "\n",
    "        # Set up results matrix\n",
    "        result_dict = {}\n",
    "\n",
    "        # Process matrix A\n",
    "        for row in range(len(A_indptr) - 1):\n",
    "            for index in range(A_indptr[row], A_indptr[row + 1]):\n",
    "                col = A_indices[index]\n",
    "                value = A_data[index]\n",
    "                if (row, col) in result_dict:\n",
    "                    result_dict[(row, col)] += value\n",
    "                else:\n",
    "                    result_dict[(row, col)] = value\n",
    "\n",
    "        # Process matrix B\n",
    "        for row in range(len(B_indptr) - 1):\n",
    "            for index in range(B_indptr[row], B_indptr[row + 1]):\n",
    "                col = B_indices[index]\n",
    "                value = B_data[index]\n",
    "                if (row, col) in result_dict:\n",
    "                    result_dict[(row, col)] += value\n",
    "                else:\n",
    "                    result_dict[(row, col)] = value\n",
    "\n",
    "        # Convert result_dict to CSR format\n",
    "        # * opens up the (row, col, value)\n",
    "        # zip tranposes the row, col, value to the right places\n",
    "        rows, cols, data = zip(*((row, col, value) for (row, col), value in result_dict.items()))\n",
    "\n",
    "        rows = np.array(rows)\n",
    "        cols = np.array(cols)\n",
    "        data = np.array(data)\n",
    "\n",
    "        results_coo = coo_matrix((data, (rows, cols)), shape=(self.shape))\n",
    "\n",
    "        # Create the result CSR matrix\n",
    "        results_csr = CSRMatrix(results_coo)\n",
    "\n",
    "        return results_csr\n",
    "    \n",
    "    def _matvec(self, vector):\n",
    "        '''\n",
    "        Compute a matrix-vector product.\n",
    "\n",
    "        Inputs\n",
    "        - self - input CSR matrix\n",
    "        - vector - input 1D vector\n",
    "\n",
    "        Outputs\n",
    "        - output - the resultant vector\n",
    "        '''\n",
    "        \n",
    "        assert self.shape[1] == vector.shape[0]\n",
    "        vecshape = self.shape[1]\n",
    "\n",
    "        # Call JIT-compiled function\n",
    "        output = jit_matvec(np.array(self.data), np.array(self.indices), np.array(self.indptr), vector, vecshape)\n",
    "\n",
    "        return output"
   ]
  },
  {
   "cell_type": "markdown",
   "metadata": {},
   "source": [
    "## Testing CSR conversion\n",
    "Here we check that we get the correct CSR matrix outputs for `CSRMatrix` given some COO matrix by comparing against the built-in `scipy` implentation in python."
   ]
  },
  {
   "cell_type": "code",
   "execution_count": 45,
   "metadata": {},
   "outputs": [
    {
     "name": "stdout",
     "output_type": "stream",
     "text": [
      "Class conversion works!\n"
     ]
    }
   ],
   "source": [
    "testrange = np.arange(100,1000,100)\n",
    "\n",
    "for i in testrange:\n",
    "    A = scipy.sparse.random(i, i, density=0.5, format='coo')\n",
    "\n",
    "    # Using built-in csr conversion function\n",
    "    A_csr = csr_matrix(A)\n",
    "\n",
    "    # Using my CSR class converter\n",
    "    A_csr_class = CSRMatrix(A)\n",
    "\n",
    "    assert np.allclose(A_csr.toarray(), csr_matrix((A_csr_class.data, A_csr_class.indices, A_csr_class.indptr)).toarray())\n",
    "print('Class conversion works!')"
   ]
  },
  {
   "cell_type": "markdown",
   "metadata": {},
   "source": [
    "## Testing CSR addition\n",
    "Here we check that we get the correct matrix outputs for `CSRMatrix` for adding two sparse matrices by comparing the result against the addition of the same matrix in the COO format."
   ]
  },
  {
   "cell_type": "code",
   "execution_count": 46,
   "metadata": {},
   "outputs": [
    {
     "name": "stdout",
     "output_type": "stream",
     "text": [
      "Addition works!\n"
     ]
    }
   ],
   "source": [
    "testrange = np.arange(100,1000,100)\n",
    "\n",
    "for i in testrange:\n",
    "    A = scipy.sparse.random(i, i, density=0.5, format='coo')\n",
    "    B = scipy.sparse.random(i, i, density=0.5, format='coo')\n",
    "\n",
    "    A_coo = coo_matrix(A)\n",
    "    B_coo = coo_matrix(B)\n",
    "\n",
    "    A_csr = CSRMatrix(A)\n",
    "    B_csr = CSRMatrix(B)\n",
    "\n",
    "    C_coo = A_coo + B_coo\n",
    "    C_csr  = A_csr + B_csr\n",
    "    \n",
    "    assert np.allclose(C_coo.toarray(), csr_matrix((C_csr.data, C_csr.indices, C_csr.indptr)).toarray())\n",
    "\n",
    "print('Addition works!')"
   ]
  },
  {
   "cell_type": "markdown",
   "metadata": {},
   "source": [
    "## Testing `matvec`\n",
    "For `matvec` we iterate through each row and multiply the entries in that row by the corresponding entry in the vector. In the function here, the relevant information is parsed to a `jit` compiled function that carries out the calculation. Originally it was carried out in the `matvec` function and was very slow due to the nested for loops and no `numba` acceleration ($50 s$ vs $6 s$)"
   ]
  },
  {
   "cell_type": "code",
   "execution_count": 47,
   "metadata": {},
   "outputs": [
    {
     "name": "stdout",
     "output_type": "stream",
     "text": [
      "matvec works\n"
     ]
    }
   ],
   "source": [
    "testrange = np.arange(100,1000,100)\n",
    "\n",
    "for i in testrange:\n",
    "    A = scipy.sparse.random(i, i, density=0.5, format='coo')\n",
    "    Bvec = np.random.rand(i)\n",
    "\n",
    "    A_coo = coo_matrix(A)\n",
    "\n",
    "    A_csr = CSRMatrix(A)\n",
    "\n",
    "    C_coo = A_coo @ Bvec\n",
    "    C_csr  = A_csr @ Bvec\n",
    "    \n",
    "    assert np.allclose(C_coo, C_csr)\n",
    "print(\"matvec works\")"
   ]
  },
  {
   "cell_type": "markdown",
   "metadata": {},
   "source": [
    "## Timing matvec"
   ]
  },
  {
   "cell_type": "code",
   "execution_count": null,
   "metadata": {},
   "outputs": [
    {
     "name": "stderr",
     "output_type": "stream",
     "text": [
      "100%|██████████| 50/50 [09:56<00:00, 11.93s/it]\n"
     ]
    }
   ],
   "source": [
    "testrange = np.arange(2, 5001,100)\n",
    "\n",
    "matvec_times = []\n",
    "numpy_times = []\n",
    "\n",
    "for i in tqdm(testrange):\n",
    "\n",
    "    # Create matrices\n",
    "    mat = scipy.sparse.random(i, i, density=0.5, format='coo')\n",
    "    vec = np.random.rand(i)\n",
    "\n",
    "    # Convert to CSR form\n",
    "    mat_csr = CSRMatrix(mat)\n",
    "\n",
    "    # Make dense\n",
    "    mat_dense = mat.toarray()\n",
    "\n",
    "    # Timing\n",
    "    mvt = timeit(lambda:mat_csr @ vec , number=1)\n",
    "    matvec_times.append(mvt)\n",
    "    \n",
    "    npt = timeit(lambda:np.dot(mat_dense, vec),globals=globals(),number=10)\n",
    "    numpy_times.append(npt/10)"
   ]
  },
  {
   "cell_type": "code",
   "execution_count": 13,
   "metadata": {},
   "outputs": [
    {
     "data": {
      "text/plain": [
       "<matplotlib.legend.Legend at 0x138031d6590>"
      ]
     },
     "execution_count": 13,
     "metadata": {},
     "output_type": "execute_result"
    },
    {
     "data": {
      "image/png": "[encoded data removed]",
      "text/plain": [
       "<Figure size 640x480 with 1 Axes>"
      ]
     },
     "metadata": {},
     "output_type": "display_data"
    }
   ],
   "source": [
    "plt.plot(testrange, matvec_times, label='matvec')\n",
    "plt.plot(testrange, numpy_times, label='dense')\n",
    "plt.xlabel('Matrix Size')\n",
    "plt.ylabel('Execution Time (s)')\n",
    "plt.grid()\n",
    "plt.legend()"
   ]
  },
  {
   "cell_type": "markdown",
   "metadata": {},
   "source": [
    "### Discussion\n",
    "The matvec method shows a significant increase in execution time as the matrix size grows. This is evident from the steep upward trend in the curve. The dense method maintains a consistently low execution time, even as the matrix size increases. The dense implementation appears to be more efficient and scales better with matrix size. The matvec implementation suffers which could be due to less optimal computational efficiency as we are using nested `for` loops even with `jit` compiling."
   ]
  },
  {
   "cell_type": "markdown",
   "metadata": {},
   "source": [
    "## Solving matrix problems with `gmres` and `cg`\n",
    "Here we solve $Ax=B$ to find $x$ where $A$ is some matrix and $B$ is some vector.\n",
    "\n",
    "* CG: Best suited for symmetric positive definite (SPD) matrices. It leverages the matrix properties to achieve faster convergence. If  $A$ is not SPD, CG may fail or converge poorly.\n",
    "\n",
    "* GMRES: Does not require $A$ to be SPD, making it applicable to a broader range of matrices. However, GMRES has higher memory requirements because it stores an increasing number of Krylov subspace vectors.\n",
    "\n",
    "For matrix $A$ to be symmetric, it follows: $$A^T=A$$ and so the element at $[i, j]$ is the same as that at $[j, i]$"
   ]
  },
  {
   "cell_type": "code",
   "execution_count": 56,
   "metadata": {},
   "outputs": [
    {
     "name": "stdout",
     "output_type": "stream",
     "text": [
      "0\n",
      "0\n"
     ]
    }
   ],
   "source": [
    "n=100\n",
    "Amatrix = scipy.sparse.random(n, n, format='coo', density=0.3, dtype=np.float64)\n",
    "\n",
    "# Make the matrix more symmetric and also converts to CSR\n",
    "Amatrix = Amatrix + Amatrix.T\n",
    "\n",
    "bvector = np.random.rand(n)\n",
    "\n",
    "# Call solvers\n",
    "cg_sol, cg_info = sparse.linalg.cg(Amatrix, bvector)\n",
    "gmres_sol, gm_info = sparse.linalg.gmres(Amatrix, bvector)\n",
    "\n",
    "# 0 from info indicates that the solvers converged on a solution\n",
    "print(cg_info)\n",
    "print(gm_info)"
   ]
  },
  {
   "cell_type": "code",
   "execution_count": 75,
   "metadata": {},
   "outputs": [
    {
     "ename": "AssertionError",
     "evalue": "Solutions from CG and GMRES are not sufficiently close.",
     "output_type": "error",
     "traceback": [
      "\u001b[1;31m---------------------------------------------------------------------------\u001b[0m",
      "\u001b[1;31mAssertionError\u001b[0m                            Traceback (most recent call last)",
      "Cell \u001b[1;32mIn[75], line 1\u001b[0m\n\u001b[1;32m----> 1\u001b[0m \u001b[38;5;28;01massert\u001b[39;00m np\u001b[38;5;241m.\u001b[39mallclose(cg_sol, gmres_sol, rtol\u001b[38;5;241m=\u001b[39m\u001b[38;5;241m1e-3\u001b[39m), \u001b[38;5;124m\"\u001b[39m\u001b[38;5;124mSolutions from CG and GMRES are not sufficiently close.\u001b[39m\u001b[38;5;124m\"\u001b[39m\n\u001b[0;32m      3\u001b[0m \u001b[38;5;28mprint\u001b[39m(\u001b[38;5;124m\"\u001b[39m\u001b[38;5;124mCG and GMRES solutions are effectively the same!\u001b[39m\u001b[38;5;124m\"\u001b[39m)\n",
      "\u001b[1;31mAssertionError\u001b[0m: Solutions from CG and GMRES are not sufficiently close."
     ]
    }
   ],
   "source": [
    "assert np.allclose(cg_sol, gmres_sol, rtol=1e-3), \"Solutions from CG and GMRES are not sufficiently close.\"\n",
    "\n",
    "print(\"CG and GMRES solutions are effectively the same!\")"
   ]
  },
  {
   "cell_type": "markdown",
   "metadata": {},
   "source": [
    "### Discussion\n",
    "To make `CG` solver converge on a solution, we have to make $A$ more symmetric, which is done by adding it's transpose to itself.\n",
    "\n",
    "The `gmres` solver is a lot slower than `CG` for larger matrices ($150s$ vs $2s$ in this current case).\n",
    "\n",
    "While both solvers converge and have the same solution to 1.s.f, the solutions from `gmres` and `CG` are not exactly the same because `gmres` is a more complex method that works for any matrix (symmetric or not), whereas `CG` is specifically designed for symmetric positive-definite matrice. Where the matrix is symmetric and positive-definite, the solutions from both methods should be nearly identical, but with other types of matrices, the difference in their convergence rates or stability may cause slight variations in the results."
   ]
  },
  {
   "cell_type": "markdown",
   "metadata": {},
   "source": [
    "## Part 2: A custom matrix\n",
    "Let $A$ be a $2n$ by $2n$ matrix with the structure:\n",
    "* The top left $n$ by $n$ block is a diagonal matrix. \n",
    "* The top right $n$ by $n$ block is zero.\n",
    "* The bottom left $n$ by $n$ block is zero.\n",
    "* The bottom right $n$ by $n$ block is dense with a special structure\n",
    "\n",
    "\n",
    "$$\n",
    "A = \\begin{pmatrix}\n",
    "* & 0 & 0 & 0 & 0 & 0 \\\\\n",
    "0 & * & 0 & 0 & 0 & 0 \\\\\n",
    "0 & 0 & * & 0 & 0 & 0 \\\\\n",
    "0 & 0 & 0 & * & * & * \\\\\n",
    "0 & 0 & 0 & * & * & * \\\\\n",
    "0 & 0 & 0 & * & * & * \\\\\n",
    "\\end{pmatrix}\n",
    "$$"
   ]
  },
  {
   "cell_type": "code",
   "execution_count": null,
   "metadata": {},
   "outputs": [],
   "source": [
    "class CustomMatrix(LinearOperator):\n",
    "    def __init__(self, diag, T, W):\n",
    "        '''\n",
    "        Generates the custom format matrix\n",
    "\n",
    "        Inputs\n",
    "        - diag - Diagonal elements for the top left of the matrix\n",
    "        - T - Matrix of shape (n, 2)\n",
    "        - W - Matrix of shape (2, n)\n",
    "\n",
    "        Outputs\n",
    "        - \n",
    "        '''\n",
    "        \n",
    "        # Ensuring appropriate shapes\n",
    "        assert T.shape == (W.T).shape\n",
    "        assert diag.shape[0] == T.shape[0]\n",
    "        assert W.shape[0] == T.shape[1] == 2\n",
    "        \n",
    "        # Initialises A properties\n",
    "        self.shape = (2*diag.shape[0],2*diag.shape[0])\n",
    "        self.dtype = T.dtype\n",
    "\n",
    "        self.diag = diag\n",
    "        self.A_tilde = T @ W\n",
    "        self.Tarray = T\n",
    "        self.Warray = W\n",
    "        \n",
    "    def _matvec(self, vector):\n",
    "        '''\n",
    "        '''\n",
    "        # Checking dimensions\n",
    "        assert self.shape[1] == vector.shape[0]\n",
    "        vector.dtype == self.dtype\n",
    "        \n",
    "        # Computing matrix vector product components\n",
    "        diag_part = self.diag * vector[0:int(len(vector)*0.5)]\n",
    "        A_tilde_part = np.dot(self.Tarray, np.dot(self.Warray, vector[int(len(vector)*0.5):]))\n",
    "        \n",
    "        output = np.append(diag_part,A_tilde_part)\n",
    "        \n",
    "        return output"
   ]
  },
  {
   "cell_type": "code",
   "execution_count": null,
   "metadata": {},
   "outputs": [
    {
     "name": "stdout",
     "output_type": "stream",
     "text": [
      "(6, 6)\n",
      "[[0.04774713 0.         0.         0.         0.         0.        ]\n",
      " [0.         0.17740395 0.         0.         0.         0.        ]\n",
      " [0.         0.         0.80628393 0.         0.         0.        ]\n",
      " [0.         0.         0.         0.78413454 0.62375185 0.05777652]\n",
      " [0.         0.         0.         0.67107644 0.54917059 0.45535401]\n",
      " [0.         0.         0.         0.78273936 0.62396715 0.09270864]]\n"
     ]
    }
   ],
   "source": [
    "n=3\n",
    "diag = np.random.rand(n)\n",
    "T = np.random.rand(n,2)\n",
    "W = np.random.rand(2,n)\n",
    "A = T@W\n",
    "demomat = CustomMatrix(diag,T,W)\n",
    "\n",
    "print(demomat.shape)\n",
    "\n",
    "\n",
    "# Unpacking demomat to display as a dense matrix\n",
    "densedemo = np.zeros((2*n, 2*n))\n",
    "\n",
    "for i in range(n):\n",
    "    densedemo[i][i] = diag[i]\n",
    "\n",
    "for i in range(n,2*n):\n",
    "    for j in range(n,2*n):\n",
    "        densedemo[i][j] = A[i-n][j-n]\n",
    "        \n",
    "print(densedemo)"
   ]
  },
  {
   "cell_type": "code",
   "execution_count": 103,
   "metadata": {},
   "outputs": [
    {
     "name": "stderr",
     "output_type": "stream",
     "text": [
      "100%|██████████| 50/50 [05:49<00:00,  6.99s/it]\n"
     ]
    }
   ],
   "source": [
    "testrange = np.arange(100,5001,100)\n",
    "\n",
    "solve_timessmall = []\n",
    "solve_timesbig = []\n",
    "\n",
    "for n in tqdm(testrange):\n",
    "\n",
    "    # Create matrices\n",
    "    diag = np.random.rand(n)\n",
    "    T = np.random.rand(n,2)\n",
    "    W = np.random.rand(2,n)\n",
    "    A_corner = T@W\n",
    "\n",
    "    mat = CustomMatrix(diag,T,W)\n",
    "    vec = np.random.rand(2*n)\n",
    "    \n",
    "    densemat = np.zeros((2*n, 2*n))\n",
    "\n",
    "    for i in range(n):\n",
    "        densemat[i][i] = diag[i]\n",
    "\n",
    "    for i in range(n,2*n):\n",
    "        for j in range(n,2*n):\n",
    "            densemat[i][j] = A_corner[i-n][j-n]\n",
    "\n",
    "    # Timing\n",
    "    mvt = timeit(lambda:mat @ vec , number=20)\n",
    "    denset = timeit(lambda:densemat @ vec, number=20)\n",
    "\n",
    "    solve_timessmall.append(mvt/20)\n",
    "    solve_timesbig.append(denset/20)"
   ]
  },
  {
   "cell_type": "code",
   "execution_count": 107,
   "metadata": {},
   "outputs": [
    {
     "data": {
      "text/plain": [
       "<matplotlib.legend.Legend at 0x13809177f90>"
      ]
     },
     "execution_count": 107,
     "metadata": {},
     "output_type": "execute_result"
    },
    {
     "data": {
      "image/png": "[encoded data removed]",
      "text/plain": [
       "<Figure size 640x480 with 1 Axes>"
      ]
     },
     "metadata": {},
     "output_type": "display_data"
    }
   ],
   "source": [
    "plt.plot(testrange, solve_timessmall, label='sparse')\n",
    "plt.plot(testrange, solve_timesbig, label='dense')\n",
    "plt.xlabel('Matrix Size')\n",
    "plt.ylabel('Execution Time (s)')\n",
    "plt.yscale('log')\n",
    "plt.grid()\n",
    "plt.legend()"
   ]
  },
  {
   "cell_type": "markdown",
   "metadata": {},
   "source": [
    "### Discussion\n",
    "We can see the processing time for the \"sparse\" implementation remains relatively stable as matrix size increases, where instead the dense implementation's time increases exponentially.\n",
    "\n",
    "The matvec method's execution time remains nearly constant across different matrix sizes, suggesting maybe that matvec scales efficiently with matrix size. The processing time does start to increase towards the end.\n",
    "\n",
    "The dense method's execution time grows rapidly as the matrix size increases indicating that for larger matrices, the dense approach becomes significantly more computationally expensive. This is expected since dense matrix operations generally have higher computational complexity compared to sparse or specialized matrix operations."
   ]
  }
 ],
 "metadata": {
  "kernelspec": {
   "display_name": "base",
   "language": "python",
   "name": "python3"
  },
  "language_info": {
   "codemirror_mode": {
    "name": "ipython",
    "version": 3
   },
   "file_extension": ".py",
   "mimetype": "text/x-python",
   "name": "python",
   "nbconvert_exporter": "python",
   "pygments_lexer": "ipython3",
   "version": "3.11.5"
  }
 },
 "nbformat": 4,
 "nbformat_minor": 2
}
